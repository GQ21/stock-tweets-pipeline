{
 "cells": [
  {
   "cell_type": "markdown",
   "metadata": {},
   "source": [
    "Training data was taken from kaggle: \n",
    "https://www.kaggle.com/utkarshxy/stock-markettweets-lexicon-data"
   ]
  },
  {
   "cell_type": "code",
   "execution_count": 15,
   "metadata": {},
   "outputs": [
    {
     "name": "stdout",
     "output_type": "stream",
     "text": [
      "The nb_black extension is already loaded. To reload it, use:\n",
      "  %reload_ext nb_black\n"
     ]
    },
    {
     "name": "stderr",
     "output_type": "stream",
     "text": [
      "[nltk_data] Downloading package stopwords to\n",
      "[nltk_data]     C:\\Users\\Gelezis\\AppData\\Roaming\\nltk_data...\n",
      "[nltk_data]   Package stopwords is already up-to-date!\n"
     ]
    },
    {
     "data": {
      "text/plain": [
       "True"
      ]
     },
     "execution_count": 15,
     "metadata": {},
     "output_type": "execute_result"
    },
    {
     "data": {
      "application/javascript": [
       "\n",
       "            setTimeout(function() {\n",
       "                var nbb_cell_id = 15;\n",
       "                var nbb_unformatted_code = \"%load_ext nb_black\\nimport warnings\\n\\nwarnings.simplefilter(action=\\\"ignore\\\", category=FutureWarning)\\n\\nimport pandas as pd\\nimport seaborn as sns\\nimport re\\nfrom sklearn.feature_extraction.text import TfidfVectorizer\\nfrom sklearn.model_selection import train_test_split\\nfrom sklearn.ensemble import RandomForestClassifier\\nfrom sklearn.neural_network import MLPClassifier\\nfrom sklearn.linear_model import LogisticRegression\\nfrom sklearn.metrics import classification_report\\nfrom sklearn.model_selection import cross_val_score\\nimport pickle\\n\\n\\nRANDOM_STATE = 0\\n\\nimport demoji\\n\\ndemoji.download_codes()\\nimport nltk\\nfrom nltk.corpus import stopwords\\n\\nnltk.download(\\\"stopwords\\\")\";\n",
       "                var nbb_formatted_code = \"%load_ext nb_black\\nimport warnings\\n\\nwarnings.simplefilter(action=\\\"ignore\\\", category=FutureWarning)\\n\\nimport pandas as pd\\nimport seaborn as sns\\nimport re\\nfrom sklearn.feature_extraction.text import TfidfVectorizer\\nfrom sklearn.model_selection import train_test_split\\nfrom sklearn.ensemble import RandomForestClassifier\\nfrom sklearn.neural_network import MLPClassifier\\nfrom sklearn.linear_model import LogisticRegression\\nfrom sklearn.metrics import classification_report\\nfrom sklearn.model_selection import cross_val_score\\nimport pickle\\n\\n\\nRANDOM_STATE = 0\\n\\nimport demoji\\n\\ndemoji.download_codes()\\nimport nltk\\nfrom nltk.corpus import stopwords\\n\\nnltk.download(\\\"stopwords\\\")\";\n",
       "                var nbb_cells = Jupyter.notebook.get_cells();\n",
       "                for (var i = 0; i < nbb_cells.length; ++i) {\n",
       "                    if (nbb_cells[i].input_prompt_number == nbb_cell_id) {\n",
       "                        if (nbb_cells[i].get_text() == nbb_unformatted_code) {\n",
       "                             nbb_cells[i].set_text(nbb_formatted_code);\n",
       "                        }\n",
       "                        break;\n",
       "                    }\n",
       "                }\n",
       "            }, 500);\n",
       "            "
      ],
      "text/plain": [
       "<IPython.core.display.Javascript object>"
      ]
     },
     "metadata": {},
     "output_type": "display_data"
    }
   ],
   "source": [
    "%load_ext nb_black\n",
    "import warnings\n",
    "\n",
    "warnings.simplefilter(action=\"ignore\", category=FutureWarning)\n",
    "\n",
    "import pandas as pd\n",
    "import seaborn as sns\n",
    "import re\n",
    "from sklearn.feature_extraction.text import TfidfVectorizer\n",
    "from sklearn.model_selection import train_test_split\n",
    "from sklearn.ensemble import RandomForestClassifier\n",
    "from sklearn.neural_network import MLPClassifier\n",
    "from sklearn.linear_model import LogisticRegression\n",
    "from sklearn.metrics import classification_report\n",
    "from sklearn.model_selection import cross_val_score\n",
    "import pickle\n",
    "\n",
    "\n",
    "RANDOM_STATE = 0\n",
    "\n",
    "import demoji\n",
    "\n",
    "demoji.download_codes()\n",
    "import nltk\n",
    "from nltk.corpus import stopwords\n",
    "\n",
    "nltk.download(\"stopwords\")"
   ]
  },
  {
   "cell_type": "markdown",
   "metadata": {},
   "source": [
    "# Load Data"
   ]
  },
  {
   "cell_type": "code",
   "execution_count": 6,
   "metadata": {},
   "outputs": [
    {
     "data": {
      "application/javascript": [
       "\n",
       "            setTimeout(function() {\n",
       "                var nbb_cell_id = 6;\n",
       "                var nbb_unformatted_code = \"df_tweets_labelled = pd.read_csv(\\\"data/tweets_labelled.csv\\\", sep=\\\";\\\").set_index(\\\"id\\\")\\ndf_tweets_labelled = df_tweets_labelled.dropna()\";\n",
       "                var nbb_formatted_code = \"df_tweets_labelled = pd.read_csv(\\\"data/tweets_labelled.csv\\\", sep=\\\";\\\").set_index(\\\"id\\\")\\ndf_tweets_labelled = df_tweets_labelled.dropna()\";\n",
       "                var nbb_cells = Jupyter.notebook.get_cells();\n",
       "                for (var i = 0; i < nbb_cells.length; ++i) {\n",
       "                    if (nbb_cells[i].input_prompt_number == nbb_cell_id) {\n",
       "                        if (nbb_cells[i].get_text() == nbb_unformatted_code) {\n",
       "                             nbb_cells[i].set_text(nbb_formatted_code);\n",
       "                        }\n",
       "                        break;\n",
       "                    }\n",
       "                }\n",
       "            }, 500);\n",
       "            "
      ],
      "text/plain": [
       "<IPython.core.display.Javascript object>"
      ]
     },
     "metadata": {},
     "output_type": "display_data"
    }
   ],
   "source": [
    "df_tweets_labelled = pd.read_csv(\"data/tweets_labelled.csv\", sep=\";\").set_index(\"id\")\n",
    "df_tweets_labelled = df_tweets_labelled.dropna()"
   ]
  },
  {
   "cell_type": "code",
   "execution_count": 7,
   "metadata": {},
   "outputs": [
    {
     "data": {
      "text/html": [
       "<div>\n",
       "<style scoped>\n",
       "    .dataframe tbody tr th:only-of-type {\n",
       "        vertical-align: middle;\n",
       "    }\n",
       "\n",
       "    .dataframe tbody tr th {\n",
       "        vertical-align: top;\n",
       "    }\n",
       "\n",
       "    .dataframe thead th {\n",
       "        text-align: right;\n",
       "    }\n",
       "</style>\n",
       "<table border=\"1\" class=\"dataframe\">\n",
       "  <thead>\n",
       "    <tr style=\"text-align: right;\">\n",
       "      <th></th>\n",
       "      <th>created_at</th>\n",
       "      <th>text</th>\n",
       "      <th>sentiment</th>\n",
       "    </tr>\n",
       "    <tr>\n",
       "      <th>id</th>\n",
       "      <th></th>\n",
       "      <th></th>\n",
       "      <th></th>\n",
       "    </tr>\n",
       "  </thead>\n",
       "  <tbody>\n",
       "    <tr>\n",
       "      <th>77522</th>\n",
       "      <td>2020-04-15 01:03:46+00:00</td>\n",
       "      <td>RT @RobertBeadles: Yo💥\\nEnter to WIN 1,000 Mon...</td>\n",
       "      <td>positive</td>\n",
       "    </tr>\n",
       "    <tr>\n",
       "      <th>661634</th>\n",
       "      <td>2020-06-25 06:20:06+00:00</td>\n",
       "      <td>#SriLanka surcharge on fuel removed!\\n⛽📉\\nThe ...</td>\n",
       "      <td>negative</td>\n",
       "    </tr>\n",
       "    <tr>\n",
       "      <th>413231</th>\n",
       "      <td>2020-06-04 15:41:45+00:00</td>\n",
       "      <td>Net issuance increases to fund fiscal programs...</td>\n",
       "      <td>positive</td>\n",
       "    </tr>\n",
       "    <tr>\n",
       "      <th>760262</th>\n",
       "      <td>2020-07-03 19:39:35+00:00</td>\n",
       "      <td>RT @bentboolean: How much of Amazon's traffic ...</td>\n",
       "      <td>positive</td>\n",
       "    </tr>\n",
       "    <tr>\n",
       "      <th>830153</th>\n",
       "      <td>2020-07-09 14:39:14+00:00</td>\n",
       "      <td>$AMD Ryzen 4000 desktop CPUs looking ‘great’ a...</td>\n",
       "      <td>positive</td>\n",
       "    </tr>\n",
       "    <tr>\n",
       "      <th>...</th>\n",
       "      <td>...</td>\n",
       "      <td>...</td>\n",
       "      <td>...</td>\n",
       "    </tr>\n",
       "    <tr>\n",
       "      <th>75519</th>\n",
       "      <td>2020-04-15 06:00:10+00:00</td>\n",
       "      <td>#stocks back from the recovery room: https://t...</td>\n",
       "      <td>positive</td>\n",
       "    </tr>\n",
       "    <tr>\n",
       "      <th>739234</th>\n",
       "      <td>2020-07-01 11:29:10+00:00</td>\n",
       "      <td>RT @MacroCharts: Breadth – expanding last week...</td>\n",
       "      <td>positive</td>\n",
       "    </tr>\n",
       "    <tr>\n",
       "      <th>254379</th>\n",
       "      <td>2020-04-29 02:21:50+00:00</td>\n",
       "      <td>RT @MawsonResource: Rompas-Rajapalot: A Big Ne...</td>\n",
       "      <td>neutral</td>\n",
       "    </tr>\n",
       "    <tr>\n",
       "      <th>580441</th>\n",
       "      <td>2020-06-19 17:56:57+00:00</td>\n",
       "      <td>$AAPL $QQQ Top may now be in. https://t.co/iNK...</td>\n",
       "      <td>positive</td>\n",
       "    </tr>\n",
       "    <tr>\n",
       "      <th>625070</th>\n",
       "      <td>2020-06-23 15:47:11+00:00</td>\n",
       "      <td>GLG Partners LP short position in HILTON FOOD ...</td>\n",
       "      <td>negative</td>\n",
       "    </tr>\n",
       "  </tbody>\n",
       "</table>\n",
       "<p>1300 rows × 3 columns</p>\n",
       "</div>"
      ],
      "text/plain": [
       "                       created_at  \\\n",
       "id                                  \n",
       "77522   2020-04-15 01:03:46+00:00   \n",
       "661634  2020-06-25 06:20:06+00:00   \n",
       "413231  2020-06-04 15:41:45+00:00   \n",
       "760262  2020-07-03 19:39:35+00:00   \n",
       "830153  2020-07-09 14:39:14+00:00   \n",
       "...                           ...   \n",
       "75519   2020-04-15 06:00:10+00:00   \n",
       "739234  2020-07-01 11:29:10+00:00   \n",
       "254379  2020-04-29 02:21:50+00:00   \n",
       "580441  2020-06-19 17:56:57+00:00   \n",
       "625070  2020-06-23 15:47:11+00:00   \n",
       "\n",
       "                                                     text sentiment  \n",
       "id                                                                   \n",
       "77522   RT @RobertBeadles: Yo💥\\nEnter to WIN 1,000 Mon...  positive  \n",
       "661634  #SriLanka surcharge on fuel removed!\\n⛽📉\\nThe ...  negative  \n",
       "413231  Net issuance increases to fund fiscal programs...  positive  \n",
       "760262  RT @bentboolean: How much of Amazon's traffic ...  positive  \n",
       "830153  $AMD Ryzen 4000 desktop CPUs looking ‘great’ a...  positive  \n",
       "...                                                   ...       ...  \n",
       "75519   #stocks back from the recovery room: https://t...  positive  \n",
       "739234  RT @MacroCharts: Breadth – expanding last week...  positive  \n",
       "254379  RT @MawsonResource: Rompas-Rajapalot: A Big Ne...   neutral  \n",
       "580441  $AAPL $QQQ Top may now be in. https://t.co/iNK...  positive  \n",
       "625070  GLG Partners LP short position in HILTON FOOD ...  negative  \n",
       "\n",
       "[1300 rows x 3 columns]"
      ]
     },
     "execution_count": 7,
     "metadata": {},
     "output_type": "execute_result"
    },
    {
     "data": {
      "application/javascript": [
       "\n",
       "            setTimeout(function() {\n",
       "                var nbb_cell_id = 7;\n",
       "                var nbb_unformatted_code = \"df_tweets_labelled\";\n",
       "                var nbb_formatted_code = \"df_tweets_labelled\";\n",
       "                var nbb_cells = Jupyter.notebook.get_cells();\n",
       "                for (var i = 0; i < nbb_cells.length; ++i) {\n",
       "                    if (nbb_cells[i].input_prompt_number == nbb_cell_id) {\n",
       "                        if (nbb_cells[i].get_text() == nbb_unformatted_code) {\n",
       "                             nbb_cells[i].set_text(nbb_formatted_code);\n",
       "                        }\n",
       "                        break;\n",
       "                    }\n",
       "                }\n",
       "            }, 500);\n",
       "            "
      ],
      "text/plain": [
       "<IPython.core.display.Javascript object>"
      ]
     },
     "metadata": {},
     "output_type": "display_data"
    }
   ],
   "source": [
    "df_tweets_labelled"
   ]
  },
  {
   "cell_type": "code",
   "execution_count": 7,
   "metadata": {},
   "outputs": [
    {
     "data": {
      "text/plain": [
       "<AxesSubplot:xlabel='sentiment', ylabel='count'>"
      ]
     },
     "execution_count": 7,
     "metadata": {},
     "output_type": "execute_result"
    },
    {
     "data": {
      "image/png": "[encoded data removed]",
      "text/plain": [
       "<Figure size 432x288 with 1 Axes>"
      ]
     },
     "metadata": {
      "needs_background": "light"
     },
     "output_type": "display_data"
    },
    {
     "data": {
      "application/javascript": [
       "\n",
       "            setTimeout(function() {\n",
       "                var nbb_cell_id = 7;\n",
       "                var nbb_unformatted_code = \"sns.countplot(x=\\\"sentiment\\\", data=df_tweets_labelled)\";\n",
       "                var nbb_formatted_code = \"sns.countplot(x=\\\"sentiment\\\", data=df_tweets_labelled)\";\n",
       "                var nbb_cells = Jupyter.notebook.get_cells();\n",
       "                for (var i = 0; i < nbb_cells.length; ++i) {\n",
       "                    if (nbb_cells[i].input_prompt_number == nbb_cell_id) {\n",
       "                        if (nbb_cells[i].get_text() == nbb_unformatted_code) {\n",
       "                             nbb_cells[i].set_text(nbb_formatted_code);\n",
       "                        }\n",
       "                        break;\n",
       "                    }\n",
       "                }\n",
       "            }, 500);\n",
       "            "
      ],
      "text/plain": [
       "<IPython.core.display.Javascript object>"
      ]
     },
     "metadata": {},
     "output_type": "display_data"
    }
   ],
   "source": [
    "sns.countplot(x=\"sentiment\", data=df_tweets_labelled)"
   ]
  },
  {
   "cell_type": "markdown",
   "metadata": {},
   "source": [
    "# Data Wrangling"
   ]
  },
  {
   "cell_type": "code",
   "execution_count": 8,
   "metadata": {},
   "outputs": [
    {
     "data": {
      "text/html": [
       "<div>\n",
       "<style scoped>\n",
       "    .dataframe tbody tr th:only-of-type {\n",
       "        vertical-align: middle;\n",
       "    }\n",
       "\n",
       "    .dataframe tbody tr th {\n",
       "        vertical-align: top;\n",
       "    }\n",
       "\n",
       "    .dataframe thead th {\n",
       "        text-align: right;\n",
       "    }\n",
       "</style>\n",
       "<table border=\"1\" class=\"dataframe\">\n",
       "  <thead>\n",
       "    <tr style=\"text-align: right;\">\n",
       "      <th></th>\n",
       "      <th>created_at</th>\n",
       "      <th>text</th>\n",
       "      <th>sentiment</th>\n",
       "    </tr>\n",
       "    <tr>\n",
       "      <th>id</th>\n",
       "      <th></th>\n",
       "      <th></th>\n",
       "      <th></th>\n",
       "    </tr>\n",
       "  </thead>\n",
       "  <tbody>\n",
       "    <tr>\n",
       "      <th>77522</th>\n",
       "      <td>2020-04-15 01:03:46+00:00</td>\n",
       "      <td>RT @RobertBeadles: Yo collision \\nEnter to WIN...</td>\n",
       "      <td>positive</td>\n",
       "    </tr>\n",
       "    <tr>\n",
       "      <th>661634</th>\n",
       "      <td>2020-06-25 06:20:06+00:00</td>\n",
       "      <td>#SriLanka surcharge on fuel removed!\\n fuel pu...</td>\n",
       "      <td>negative</td>\n",
       "    </tr>\n",
       "    <tr>\n",
       "      <th>413231</th>\n",
       "      <td>2020-06-04 15:41:45+00:00</td>\n",
       "      <td>Net issuance increases to fund fiscal programs...</td>\n",
       "      <td>positive</td>\n",
       "    </tr>\n",
       "    <tr>\n",
       "      <th>760262</th>\n",
       "      <td>2020-07-03 19:39:35+00:00</td>\n",
       "      <td>RT @bentboolean: How much of Amazon's traffic ...</td>\n",
       "      <td>positive</td>\n",
       "    </tr>\n",
       "    <tr>\n",
       "      <th>830153</th>\n",
       "      <td>2020-07-09 14:39:14+00:00</td>\n",
       "      <td>$AMD Ryzen 4000 desktop CPUs looking ‘great’ a...</td>\n",
       "      <td>positive</td>\n",
       "    </tr>\n",
       "    <tr>\n",
       "      <th>...</th>\n",
       "      <td>...</td>\n",
       "      <td>...</td>\n",
       "      <td>...</td>\n",
       "    </tr>\n",
       "    <tr>\n",
       "      <th>75519</th>\n",
       "      <td>2020-04-15 06:00:10+00:00</td>\n",
       "      <td>#stocks back from the recovery room: https://t...</td>\n",
       "      <td>positive</td>\n",
       "    </tr>\n",
       "    <tr>\n",
       "      <th>739234</th>\n",
       "      <td>2020-07-01 11:29:10+00:00</td>\n",
       "      <td>RT @MacroCharts: Breadth – expanding last week...</td>\n",
       "      <td>positive</td>\n",
       "    </tr>\n",
       "    <tr>\n",
       "      <th>254379</th>\n",
       "      <td>2020-04-29 02:21:50+00:00</td>\n",
       "      <td>RT @MawsonResource: Rompas-Rajapalot: A Big Ne...</td>\n",
       "      <td>neutral</td>\n",
       "    </tr>\n",
       "    <tr>\n",
       "      <th>580441</th>\n",
       "      <td>2020-06-19 17:56:57+00:00</td>\n",
       "      <td>$AAPL $QQQ Top may now be in. https://t.co/iNK...</td>\n",
       "      <td>positive</td>\n",
       "    </tr>\n",
       "    <tr>\n",
       "      <th>625070</th>\n",
       "      <td>2020-06-23 15:47:11+00:00</td>\n",
       "      <td>GLG Partners LP short position in HILTON FOOD ...</td>\n",
       "      <td>negative</td>\n",
       "    </tr>\n",
       "  </tbody>\n",
       "</table>\n",
       "<p>1300 rows × 3 columns</p>\n",
       "</div>"
      ],
      "text/plain": [
       "                       created_at  \\\n",
       "id                                  \n",
       "77522   2020-04-15 01:03:46+00:00   \n",
       "661634  2020-06-25 06:20:06+00:00   \n",
       "413231  2020-06-04 15:41:45+00:00   \n",
       "760262  2020-07-03 19:39:35+00:00   \n",
       "830153  2020-07-09 14:39:14+00:00   \n",
       "...                           ...   \n",
       "75519   2020-04-15 06:00:10+00:00   \n",
       "739234  2020-07-01 11:29:10+00:00   \n",
       "254379  2020-04-29 02:21:50+00:00   \n",
       "580441  2020-06-19 17:56:57+00:00   \n",
       "625070  2020-06-23 15:47:11+00:00   \n",
       "\n",
       "                                                     text sentiment  \n",
       "id                                                                   \n",
       "77522   RT @RobertBeadles: Yo collision \\nEnter to WIN...  positive  \n",
       "661634  #SriLanka surcharge on fuel removed!\\n fuel pu...  negative  \n",
       "413231  Net issuance increases to fund fiscal programs...  positive  \n",
       "760262  RT @bentboolean: How much of Amazon's traffic ...  positive  \n",
       "830153  $AMD Ryzen 4000 desktop CPUs looking ‘great’ a...  positive  \n",
       "...                                                   ...       ...  \n",
       "75519   #stocks back from the recovery room: https://t...  positive  \n",
       "739234  RT @MacroCharts: Breadth – expanding last week...  positive  \n",
       "254379  RT @MawsonResource: Rompas-Rajapalot: A Big Ne...   neutral  \n",
       "580441  $AAPL $QQQ Top may now be in. https://t.co/iNK...  positive  \n",
       "625070  GLG Partners LP short position in HILTON FOOD ...  negative  \n",
       "\n",
       "[1300 rows x 3 columns]"
      ]
     },
     "execution_count": 8,
     "metadata": {},
     "output_type": "execute_result"
    },
    {
     "data": {
      "application/javascript": [
       "\n",
       "            setTimeout(function() {\n",
       "                var nbb_cell_id = 8;\n",
       "                var nbb_unformatted_code = \"df_tweets_labelled_demoji = df_tweets_labelled.copy()\\ndf_tweets_labelled_demoji[\\\"text\\\"] = df_tweets_labelled_demoji[\\\"text\\\"].map(\\n    lambda x: demoji.replace_with_desc(x, sep=\\\" \\\")\\n)\\ndf_tweets_labelled_demoji\";\n",
       "                var nbb_formatted_code = \"df_tweets_labelled_demoji = df_tweets_labelled.copy()\\ndf_tweets_labelled_demoji[\\\"text\\\"] = df_tweets_labelled_demoji[\\\"text\\\"].map(\\n    lambda x: demoji.replace_with_desc(x, sep=\\\" \\\")\\n)\\ndf_tweets_labelled_demoji\";\n",
       "                var nbb_cells = Jupyter.notebook.get_cells();\n",
       "                for (var i = 0; i < nbb_cells.length; ++i) {\n",
       "                    if (nbb_cells[i].input_prompt_number == nbb_cell_id) {\n",
       "                        if (nbb_cells[i].get_text() == nbb_unformatted_code) {\n",
       "                             nbb_cells[i].set_text(nbb_formatted_code);\n",
       "                        }\n",
       "                        break;\n",
       "                    }\n",
       "                }\n",
       "            }, 500);\n",
       "            "
      ],
      "text/plain": [
       "<IPython.core.display.Javascript object>"
      ]
     },
     "metadata": {},
     "output_type": "display_data"
    }
   ],
   "source": [
    "df_tweets_labelled_demoji = df_tweets_labelled.copy()\n",
    "df_tweets_labelled_demoji[\"text\"] = df_tweets_labelled_demoji[\"text\"].map(\n",
    "    lambda x: demoji.replace_with_desc(x, sep=\" \")\n",
    ")\n",
    "df_tweets_labelled_demoji"
   ]
  },
  {
   "cell_type": "code",
   "execution_count": 9,
   "metadata": {},
   "outputs": [
    {
     "data": {
      "application/javascript": [
       "\n",
       "            setTimeout(function() {\n",
       "                var nbb_cell_id = 9;\n",
       "                var nbb_unformatted_code = \"def clean_tweets(tweets: list) -> list:\\n    processed_tweets = []\\n\\n    for tweet in tweets:\\n        # remove stock market tickers like $AAPL\\n        processed_tweet = re.sub(r\\\"\\\\$\\\\w*\\\", \\\"\\\", tweet)\\n        # remove old style retweet text \\\"RT\\\"\\n        processed_tweet = re.sub(r\\\"^RT[\\\\s]+\\\", \\\"\\\", processed_tweet)\\n        # remove hyperlinks\\n        processed_tweet = re.sub(r\\\"http\\\\S+\\\", \\\"\\\", processed_tweet)\\n        # remove the hash # sign from the word\\n        processed_tweet = re.sub(r\\\"#\\\", \\\"\\\", processed_tweet)\\n        # remove digit characters\\n        processed_tweet = re.sub(\\\"[0-9]\\\", \\\" \\\", processed_tweet)\\n        # remove all other special characters\\n        processed_tweet = re.sub(r\\\"\\\\W\\\", \\\" \\\", processed_tweet)\\n\\n        processed_tweets.append(processed_tweet)\\n\\n    return processed_tweets\";\n",
       "                var nbb_formatted_code = \"def clean_tweets(tweets: list) -> list:\\n    processed_tweets = []\\n\\n    for tweet in tweets:\\n        # remove stock market tickers like $AAPL\\n        processed_tweet = re.sub(r\\\"\\\\$\\\\w*\\\", \\\"\\\", tweet)\\n        # remove old style retweet text \\\"RT\\\"\\n        processed_tweet = re.sub(r\\\"^RT[\\\\s]+\\\", \\\"\\\", processed_tweet)\\n        # remove hyperlinks\\n        processed_tweet = re.sub(r\\\"http\\\\S+\\\", \\\"\\\", processed_tweet)\\n        # remove the hash # sign from the word\\n        processed_tweet = re.sub(r\\\"#\\\", \\\"\\\", processed_tweet)\\n        # remove digit characters\\n        processed_tweet = re.sub(\\\"[0-9]\\\", \\\" \\\", processed_tweet)\\n        # remove all other special characters\\n        processed_tweet = re.sub(r\\\"\\\\W\\\", \\\" \\\", processed_tweet)\\n\\n        processed_tweets.append(processed_tweet)\\n\\n    return processed_tweets\";\n",
       "                var nbb_cells = Jupyter.notebook.get_cells();\n",
       "                for (var i = 0; i < nbb_cells.length; ++i) {\n",
       "                    if (nbb_cells[i].input_prompt_number == nbb_cell_id) {\n",
       "                        if (nbb_cells[i].get_text() == nbb_unformatted_code) {\n",
       "                             nbb_cells[i].set_text(nbb_formatted_code);\n",
       "                        }\n",
       "                        break;\n",
       "                    }\n",
       "                }\n",
       "            }, 500);\n",
       "            "
      ],
      "text/plain": [
       "<IPython.core.display.Javascript object>"
      ]
     },
     "metadata": {},
     "output_type": "display_data"
    }
   ],
   "source": [
    "def clean_tweets(tweets: list) -> list:\n",
    "    processed_tweets = []\n",
    "\n",
    "    for tweet in tweets:\n",
    "        # remove stock market tickers like $AAPL\n",
    "        processed_tweet = re.sub(r\"\\$\\w*\", \"\", tweet)\n",
    "        # remove old style retweet text \"RT\"\n",
    "        processed_tweet = re.sub(r\"^RT[\\s]+\", \"\", processed_tweet)\n",
    "        # remove hyperlinks\n",
    "        processed_tweet = re.sub(r\"http\\S+\", \"\", processed_tweet)\n",
    "        # remove the hash # sign from the word\n",
    "        processed_tweet = re.sub(r\"#\", \"\", processed_tweet)\n",
    "        # remove digit characters\n",
    "        processed_tweet = re.sub(\"[0-9]\", \" \", processed_tweet)\n",
    "        # remove all other special characters\n",
    "        processed_tweet = re.sub(r\"\\W\", \" \", processed_tweet)\n",
    "\n",
    "        processed_tweets.append(processed_tweet)\n",
    "\n",
    "    return processed_tweets"
   ]
  },
  {
   "cell_type": "code",
   "execution_count": 10,
   "metadata": {},
   "outputs": [
    {
     "data": {
      "application/javascript": [
       "\n",
       "            setTimeout(function() {\n",
       "                var nbb_cell_id = 10;\n",
       "                var nbb_unformatted_code = \"processed_tweets_train = clean_tweets(df_tweets_labelled_demoji[\\\"text\\\"].values)\";\n",
       "                var nbb_formatted_code = \"processed_tweets_train = clean_tweets(df_tweets_labelled_demoji[\\\"text\\\"].values)\";\n",
       "                var nbb_cells = Jupyter.notebook.get_cells();\n",
       "                for (var i = 0; i < nbb_cells.length; ++i) {\n",
       "                    if (nbb_cells[i].input_prompt_number == nbb_cell_id) {\n",
       "                        if (nbb_cells[i].get_text() == nbb_unformatted_code) {\n",
       "                             nbb_cells[i].set_text(nbb_formatted_code);\n",
       "                        }\n",
       "                        break;\n",
       "                    }\n",
       "                }\n",
       "            }, 500);\n",
       "            "
      ],
      "text/plain": [
       "<IPython.core.display.Javascript object>"
      ]
     },
     "metadata": {},
     "output_type": "display_data"
    }
   ],
   "source": [
    "processed_tweets_train = clean_tweets(df_tweets_labelled_demoji[\"text\"].values)"
   ]
  },
  {
   "cell_type": "code",
   "execution_count": 16,
   "metadata": {},
   "outputs": [
    {
     "name": "stdout",
     "output_type": "stream",
     "text": [
      "['aapl', 'able', 'account', 'action', 'actually', 'adammancini', 'added', 'ads', 'advertising', 'ago', 'ahead', 'ai', 'alert', 'alerts', 'already', 'also', 'always', 'amazon', 'america', 'amp', 'amp co', 'analysis', 'analyst', 'analysts', 'announce', 'announce earnings', 'another', 'app', 'apple', 'april', 'around', 'arrow', 'asset', 'ath', 'available', 'average', 'away', 'awox', 'back', 'backhand', 'backhand index', 'bad', 'bag', 'bank', 'banknifty', 'banks', 'bar', 'bar chart', 'based', 'bear', 'bear market', 'bearish', 'bears', 'beat', 'believe', 'bell', 'best', 'better', 'bias', 'bid', 'big', 'bill', 'billion', 'biontech', 'biotech', 'bit', 'bitcoin', 'bitcoin ethereum', 'black', 'bonds', 'book', 'bottom', 'bought', 'bounce', 'bounced', 'boycott', 'bp', 'brands', 'break', 'breakdown', 'breaking', 'breakout', 'brokerages', 'brokerages stocks', 'btc', 'btc trade', 'bubble', 'building', 'bull', 'bullish', 'bulls', 'bullseye', 'business', 'business markets', 'business money', 'button', 'buy', 'buy buy', 'buy rating', 'buying', 'california', 'call', 'called', 'calls', 'came', 'canada', 'candle', 'cap', 'capital', 'cash', 'central', 'ceo', 'chance', 'changes', 'chart', 'chart decreasing', 'chart increasing', 'chart open', 'chart update', 'charts', 'charts trading', 'chase', 'cheap', 'check', 'check mark', 'china', 'chinese', 'circle', 'cl_f', 'click', 'close', 'closed', 'closing', 'cnbc', 'cnbc foxbusiness', 'cnbcfastmoney', 'co', 'coinbase', 'coinbase robinhood', 'collision', 'collision collision', 'come', 'comes', 'coming', 'community', 'companies', 'company', 'confirmed', 'consensus', 'consensus rating', 'consensus recommendation', 'consumer', 'continue', 'continues', 'contract', 'contracts', 'coolfundoo', 'corona', 'coronavirus', 'coronavirus covid', 'corp', 'correction', 'could', 'course', 'covid', 'crash', 'crazy', 'credit', 'crisis', 'crude', 'crypto', 'crypto cryptocurrency', 'cryptocurrency', 'cryptocurrency bitcoin', 'current', 'currently', 'cut', 'cuts', 'daily', 'data', 'dataswarm', 'dataswarm markets', 'dataswarm ref', 'date', 'dax', 'dax ftse', 'day', 'day trading', 'days', 'daytrader', 'daytrading', 'daytrading stocks', 'deal', 'debt', 'decline', 'decreasing', 'deep', 'demand', 'despite', 'detected', 'detected noticeable', 'different', 'dip', 'dips', 'direction', 'disney', 'divergence', 'dividend', 'dividends', 'djia', 'dollar', 'dollars', 'double', 'dow', 'dow dax', 'dow futures', 'dow nq', 'download', 'download free', 'drop', 'due', 'dump', 'early', 'earnings', 'earnings call', 'earnings per', 'easy', 'economic', 'economy', 'elliottwave', 'elliottwave trading', 'else', 'ema', 'employees', 'end', 'energy', 'entire', 'entrepreneur', 'entrepreneur trading', 'eps', 'equities', 'equity', 'equity stocks', 'es', 'es_f', 'es_f dow', 'especially', 'est', 'estimate', 'estimates', 'etf', 'etfs', 'ethereum', 'ethereum coinbase', 'eur', 'eurusd', 'even', 'ever', 'every', 'everyone', 'everything', 'ewhispers', 'exp', 'expect', 'expected', 'eye', 'eyes', 'face', 'facebook', 'fall', 'far', 'fargo', 'fb', 'fed', 'feel', 'finance', 'financial', 'financials', 'find', 'fintech', 'fire', 'fire fire', 'first', 'flag', 'flag united', 'floor', 'floor laughing', 'flow', 'follow', 'following', 'forecast', 'forecasts', 'forex', 'forex crypto', 'forex stocks', 'forexsignal', 'forexsignals', 'forextrading', 'form', 'foxbusiness', 'foxbusiness business', 'free', 'friday', 'ftse', 'ftse nq', 'full', 'fund', 'fundamentals', 'future', 'futures', 'fx', 'gain', 'gains', 'game', 'gap', 'general', 'get', 'get instant', 'getting', 'giant', 'give', 'given', 'given consensus', 'global', 'go', 'going', 'gold', 'gold silver', 'goldman', 'goldman sachs', 'gonna', 'good', 'google', 'got', 'government', 'great', 'green', 'group', 'groups', 'growing', 'growth', 'gt', 'guidance', 'guide', 'guys', 'half', 'hammer', 'hand', 'hands', 'happen', 'happy', 'hard', 'harmonics', 'harmonics charts', 'head', 'health', 'heart', 'hedge', 'help', 'high', 'higher', 'highest', 'highs', 'history', 'hit', 'hits', 'hold', 'hold analysts', 'hold brokerages', 'holding', 'holdings', 'holdings inc', 'home', 'hope', 'hour', 'hours', 'huge', 'idea', 'ideas', 'imagine', 'imo', 'inc', 'inc announce', 'inc receives', 'inc short', 'increases', 'increasing', 'index', 'index pointing', 'india', 'indicators', 'indices', 'industrial', 'industry', 'information', 'information stocks', 'insider', 'intel', 'interest', 'interest chart', 'interest stocks', 'interesting', 'intraday', 'invest', 'investing', 'investing investment', 'investing stocks', 'investingcom', 'investment', 'investment investing', 'investment stock', 'investments', 'investor', 'investor investors', 'investors', 'ip', 'ip research', 'iphone', 'ira', 'isabelnet_sa', 'issues', 'javascript', 'job', 'jobs', 'join', 'jpmorgan', 'jpmorgan chase', 'jul', 'july', 'jun', 'june', 'keep', 'keeps', 'key', 'killing', 'know', 'lakshmi_', 'lakshmi_ harmonics', 'lakshmi_ spx', 'large', 'largest', 'last', 'last week', 'later', 'latest', 'laughing', 'laughing rolling', 'leaders', 'leading', 'leadlagreport', 'leads', 'learn', 'left', 'let', 'let see', 'level', 'levels', 'life', 'light', 'like', 'likely', 'line', 'link', 'liquidity', 'list', 'little', 'live', 'livestream', 'loan', 'loans', 'lol', 'long', 'long short', 'long term', 'longer', 'look', 'looking', 'looks', 'looks like', 'loss', 'losses', 'lost', 'lot', 'lots', 'love', 'low', 'lower', 'lows', 'lse', 'lse stockmarket', 'ltd', 'macro', 'made', 'major', 'make', 'makes', 'making', 'man', 'management', 'many', 'march', 'margin', 'mark', 'mark button', 'market', 'market cap', 'markets', 'markets economy', 'markets information', 'markets stocks', 'markets trading', 'marketwatch', 'massive', 'matter', 'maxpain', 'maxpain chart', 'may', 'maybe', 'mean', 'means', 'media', 'medical', 'medium', 'member', 'members', 'merck', 'microsoft', 'might', 'million', 'million stocks', 'millionaire', 'millions', 'mini', 'miss', 'moment', 'momentum', 'mon', 'monday', 'money', 'money bag', 'money entrepreneur', 'month', 'months', 'morgan', 'morning', 'mouth', 'move', 'moved', 'moves', 'moving', 'much', 'must', 'names', 'nasdaq', 'nasdaq dataswarm', 'national', 'nd', 'near', 'nearly', 'need', 'needs', 'negative', 'net', 'netflix', 'neutral', 'never', 'new', 'new highs', 'new sec', 'new time', 'news', 'news investing', 'news stocks', 'next', 'next week', 'nice', 'nifty', 'nifty banknifty', 'nifty nifty', 'northmantrader', 'note', 'notes', 'nothing', 'noticeable', 'noticeable rise', 'nq', 'nq_f', 'nse', 'number', 'numbers', 'nyse', 'oil', 'one', 'online', 'opec', 'open', 'open interest', 'opening', 'opportunity', 'optimism', 'option', 'option alert', 'options', 'options flow', 'options maxpain', 'optionsflow', 'optionstrading', 'optionstrading optionsflow', 'order', 'others', 'outperform', 'overnight', 'overvalued', 'pandemic', 'part', 'partial', 'partners', 'past', 'patent', 'patience', 'patients', 'pay', 'paying', 'pennystocks', 'people', 'per', 'per share', 'performance', 'performing', 'person', 'pfizer', 'phase', 'pick', 'pips', 'pips profit', 'place', 'plan', 'plans', 'play', 'plc', 'please', 'pm', 'point', 'pointing', 'pointing right', 'points', 'poor', 'portfolio', 'position', 'positive', 'possible', 'post', 'post earnings', 'posted', 'potential', 'power', 'pre', 'premium', 'pressure', 'previous', 'price', 'price target', 'prices', 'prior', 'private', 'products', 'profit', 'profitability', 'profits', 'proud', 'pt', 'pts', 'pullback', 'purchases', 'push', 'pushpin', 'put', 'puts', 'qqq', 'quarter', 'quarterly', 'quarterly sales', 'question', 'quick', 'raised', 'rallies', 'rally', 'range', 'rates', 'rating', 'ratings', 'ratio', 'read', 'ready', 'real', 'real time', 'really', 'reason', 'rebound', 'recap', 'receives', 'receives consensus', 'recent', 'recession', 'recommendation', 'recommendation hold', 'record', 'record high', 'recovery', 'red', 'reduce', 'ref', 'related', 'release', 'released', 'report', 'reported', 'reporting', 'reports', 'research', 'resistance', 'resources', 'result', 'results', 'results earnings', 'retail', 'retest', 'retirement', 'return', 'returns', 'revenue', 'reveretrading', 'review', 'rich', 'richlightshed', 'right', 'rise', 'rise zeitgeist', 'risk', 'robinhood', 'rocket', 'rolling', 'rolling floor', 'rs', 'rsi', 'rttnews', 'rules', 'run', 'sa', 'sachs', 'said', 'sale', 'sales', 'sales million', 'sandro_power', 'save', 'saw', 'say', 'says', 'score', 'score poor', 'season', 'sec', 'sec filing', 'second', 'sector', 'see', 'seekingalpha', 'seen', 'sees', 'sell', 'selling', 'sells', 'sensex', 'sentiment', 'series', 'service', 'session', 'set', 'setup', 'several', 'share', 'share stocks', 'sharemarket', 'shares', 'shares business', 'sheepknowmore', 'short', 'short btc', 'short interest', 'short position', 'short term', 'shorts', 'shows', 'sign', 'signal', 'signals', 'significant', 'silver', 'since', 'sjosephburns', 'small', 'smiling', 'smiling eyes', 'smiling face', 'social', 'softwareengineer', 'softwareengineer javascript', 'sold', 'solid', 'something', 'soon', 'sounds', 'sp', 'spending', 'spike', 'spot', 'spx', 'spx es_f', 'spy', 'square', 'st', 'star', 'star stocks', 'start', 'starting', 'state', 'states', 'stay', 'still', 'stimulus', 'stock', 'stock market', 'stock stockmarket', 'stock stocks', 'stockmarket', 'stockmarket forex', 'stockmarket investment', 'stockmarket stocks', 'stockmarket trading', 'stockmarketnews', 'stockmarkets', 'stocks', 'stocks business', 'stocks investing', 'stocks markets', 'stocks nasdaq', 'stocks shares', 'stocks stock', 'stocks stockmarket', 'stocks stockstowatch', 'stocks trading', 'stockstotrade', 'stockstowatch', 'stockstowatch stockstotrade', 'stocktrading', 'stop', 'store', 'stream', 'street', 'strong', 'success', 'successful', 'supply', 'support', 'surge', 'swing', 'ta', 'take', 'taking', 'talking', 'target', 'target raised', 'targets', 'tax', 'team', 'tech', 'tech ip', 'technical', 'technical analysis', 'technicalanalysis', 'technology', 'term', 'tesla', 'test', 'th', 'thank', 'thanks', 'themotleyfool', 'themotleyfool stocks', 'thing', 'things', 'think', 'thinking', 'thursday', 'tictoctick', 'till', 'time', 'time highs', 'times', 'today', 'tomorrow', 'tone', 'took', 'top', 'top stocks', 'total', 'towards', 'trade', 'trader', 'traders', 'trades', 'trading', 'trading investing', 'trading sp', 'trading spx', 'trading stocks', 'treat', 'trend', 'trendline', 'trends', 'trial', 'triangle', 'trump', 'try', 'trying', 'tuesday', 'turn', 'twitter', 'two', 'unemployment', 'united', 'united states', 'unitedhealth', 'update', 'update optionstrading', 'updated', 'updates', 'upper', 'upside', 'us', 'us stocks', 'usa', 'usd', 'use', 'users', 'using', 'vaccine', 'valuation', 'value', 'via', 'video', 'view', 'virus', 'vision', 'visit', 'visit dataswarm', 'volatility', 'volume', 'vs', 'wait', 'wall', 'wallstreet', 'want', 'wanted', 'wants', 'watch', 'watching', 'wave', 'way', 'weak', 'wednesday', 'week', 'weekend', 'weekly', 'weeks', 'welcome', 'well', 'wells', 'wells fargo', 'white', 'win', 'winning', 'within', 'without', 'work', 'world', 'worst', 'worth', 'would', 'year', 'years', 'yesterday', 'yet', 'youtube', 'yr', 'ytd', 'zeitgeist', 'zone', 'zuckerberg']\n"
     ]
    },
    {
     "data": {
      "application/javascript": [
       "\n",
       "            setTimeout(function() {\n",
       "                var nbb_cell_id = 16;\n",
       "                var nbb_unformatted_code = \"vectorizer = TfidfVectorizer(\\n    max_features=1000,\\n    min_df=2,\\n    ngram_range=(1, 2),\\n    stop_words=stopwords.words(\\\"english\\\"),\\n)\\nX_train_tfidf = vectorizer.fit_transform(processed_tweets_train)\\nprint(vectorizer.get_feature_names())\";\n",
       "                var nbb_formatted_code = \"vectorizer = TfidfVectorizer(\\n    max_features=1000,\\n    min_df=2,\\n    ngram_range=(1, 2),\\n    stop_words=stopwords.words(\\\"english\\\"),\\n)\\nX_train_tfidf = vectorizer.fit_transform(processed_tweets_train)\\nprint(vectorizer.get_feature_names())\";\n",
       "                var nbb_cells = Jupyter.notebook.get_cells();\n",
       "                for (var i = 0; i < nbb_cells.length; ++i) {\n",
       "                    if (nbb_cells[i].input_prompt_number == nbb_cell_id) {\n",
       "                        if (nbb_cells[i].get_text() == nbb_unformatted_code) {\n",
       "                             nbb_cells[i].set_text(nbb_formatted_code);\n",
       "                        }\n",
       "                        break;\n",
       "                    }\n",
       "                }\n",
       "            }, 500);\n",
       "            "
      ],
      "text/plain": [
       "<IPython.core.display.Javascript object>"
      ]
     },
     "metadata": {},
     "output_type": "display_data"
    }
   ],
   "source": [
    "vectorizer = TfidfVectorizer(\n",
    "    max_features=1000,\n",
    "    min_df=2,\n",
    "    ngram_range=(1, 2),\n",
    "    stop_words=stopwords.words(\"english\"),\n",
    ")\n",
    "X_train_tfidf = vectorizer.fit_transform(processed_tweets_train)\n",
    "print(vectorizer.get_feature_names())"
   ]
  },
  {
   "cell_type": "markdown",
   "metadata": {},
   "source": [
    "# Baseline model"
   ]
  },
  {
   "cell_type": "code",
   "execution_count": 30,
   "metadata": {},
   "outputs": [
    {
     "data": {
      "application/javascript": [
       "\n",
       "            setTimeout(function() {\n",
       "                var nbb_cell_id = 30;\n",
       "                var nbb_unformatted_code = \"X_train_full = X_train_tfidf\\ny_train_full = df_tweets_labelled[\\\"sentiment\\\"]\";\n",
       "                var nbb_formatted_code = \"X_train_full = X_train_tfidf\\ny_train_full = df_tweets_labelled[\\\"sentiment\\\"]\";\n",
       "                var nbb_cells = Jupyter.notebook.get_cells();\n",
       "                for (var i = 0; i < nbb_cells.length; ++i) {\n",
       "                    if (nbb_cells[i].input_prompt_number == nbb_cell_id) {\n",
       "                        if (nbb_cells[i].get_text() == nbb_unformatted_code) {\n",
       "                             nbb_cells[i].set_text(nbb_formatted_code);\n",
       "                        }\n",
       "                        break;\n",
       "                    }\n",
       "                }\n",
       "            }, 500);\n",
       "            "
      ],
      "text/plain": [
       "<IPython.core.display.Javascript object>"
      ]
     },
     "metadata": {},
     "output_type": "display_data"
    }
   ],
   "source": [
    "X_train_full = X_train_tfidf\n",
    "y_train_full = df_tweets_labelled[\"sentiment\"]"
   ]
  },
  {
   "cell_type": "code",
   "execution_count": 31,
   "metadata": {},
   "outputs": [
    {
     "data": {
      "application/javascript": [
       "\n",
       "            setTimeout(function() {\n",
       "                var nbb_cell_id = 31;\n",
       "                var nbb_unformatted_code = \"X_train, X_val, y_train, y_val = train_test_split(\\n    X_train_full,\\n    y_train_full,\\n    test_size=0.2,\\n    random_state=RANDOM_STATE,\\n    stratify=y_train_full,\\n)\";\n",
       "                var nbb_formatted_code = \"X_train, X_val, y_train, y_val = train_test_split(\\n    X_train_full,\\n    y_train_full,\\n    test_size=0.2,\\n    random_state=RANDOM_STATE,\\n    stratify=y_train_full,\\n)\";\n",
       "                var nbb_cells = Jupyter.notebook.get_cells();\n",
       "                for (var i = 0; i < nbb_cells.length; ++i) {\n",
       "                    if (nbb_cells[i].input_prompt_number == nbb_cell_id) {\n",
       "                        if (nbb_cells[i].get_text() == nbb_unformatted_code) {\n",
       "                             nbb_cells[i].set_text(nbb_formatted_code);\n",
       "                        }\n",
       "                        break;\n",
       "                    }\n",
       "                }\n",
       "            }, 500);\n",
       "            "
      ],
      "text/plain": [
       "<IPython.core.display.Javascript object>"
      ]
     },
     "metadata": {},
     "output_type": "display_data"
    }
   ],
   "source": [
    "X_train, X_val, y_train, y_val = train_test_split(\n",
    "    X_train_full,\n",
    "    y_train_full,\n",
    "    test_size=0.2,\n",
    "    random_state=RANDOM_STATE,\n",
    "    stratify=y_train_full,\n",
    ")"
   ]
  },
  {
   "cell_type": "markdown",
   "metadata": {},
   "source": [
    "## Logistic regression"
   ]
  },
  {
   "cell_type": "code",
   "execution_count": 32,
   "metadata": {},
   "outputs": [
    {
     "data": {
      "text/plain": [
       "LogisticRegression(class_weight='balanced')"
      ]
     },
     "execution_count": 32,
     "metadata": {},
     "output_type": "execute_result"
    },
    {
     "data": {
      "application/javascript": [
       "\n",
       "            setTimeout(function() {\n",
       "                var nbb_cell_id = 32;\n",
       "                var nbb_unformatted_code = \"log_reg = LogisticRegression(class_weight=\\\"balanced\\\")\\nlog_reg.fit(X_train, y_train)\";\n",
       "                var nbb_formatted_code = \"log_reg = LogisticRegression(class_weight=\\\"balanced\\\")\\nlog_reg.fit(X_train, y_train)\";\n",
       "                var nbb_cells = Jupyter.notebook.get_cells();\n",
       "                for (var i = 0; i < nbb_cells.length; ++i) {\n",
       "                    if (nbb_cells[i].input_prompt_number == nbb_cell_id) {\n",
       "                        if (nbb_cells[i].get_text() == nbb_unformatted_code) {\n",
       "                             nbb_cells[i].set_text(nbb_formatted_code);\n",
       "                        }\n",
       "                        break;\n",
       "                    }\n",
       "                }\n",
       "            }, 500);\n",
       "            "
      ],
      "text/plain": [
       "<IPython.core.display.Javascript object>"
      ]
     },
     "metadata": {},
     "output_type": "display_data"
    }
   ],
   "source": [
    "log_reg = LogisticRegression(class_weight=\"balanced\")\n",
    "log_reg.fit(X_train, y_train)"
   ]
  },
  {
   "cell_type": "code",
   "execution_count": 33,
   "metadata": {},
   "outputs": [
    {
     "name": "stdout",
     "output_type": "stream",
     "text": [
      "              precision    recall  f1-score   support\n",
      "\n",
      "    negative       0.86      0.87      0.86       278\n",
      "     neutral       0.85      0.90      0.88       339\n",
      "    positive       0.91      0.86      0.89       423\n",
      "\n",
      "    accuracy                           0.88      1040\n",
      "   macro avg       0.87      0.88      0.87      1040\n",
      "weighted avg       0.88      0.88      0.88      1040\n",
      "\n"
     ]
    },
    {
     "data": {
      "application/javascript": [
       "\n",
       "            setTimeout(function() {\n",
       "                var nbb_cell_id = 33;\n",
       "                var nbb_unformatted_code = \"# Training classification report\\ny_pred_train = log_reg.predict(X_train)\\nprint(classification_report(y_train, y_pred_train))\";\n",
       "                var nbb_formatted_code = \"# Training classification report\\ny_pred_train = log_reg.predict(X_train)\\nprint(classification_report(y_train, y_pred_train))\";\n",
       "                var nbb_cells = Jupyter.notebook.get_cells();\n",
       "                for (var i = 0; i < nbb_cells.length; ++i) {\n",
       "                    if (nbb_cells[i].input_prompt_number == nbb_cell_id) {\n",
       "                        if (nbb_cells[i].get_text() == nbb_unformatted_code) {\n",
       "                             nbb_cells[i].set_text(nbb_formatted_code);\n",
       "                        }\n",
       "                        break;\n",
       "                    }\n",
       "                }\n",
       "            }, 500);\n",
       "            "
      ],
      "text/plain": [
       "<IPython.core.display.Javascript object>"
      ]
     },
     "metadata": {},
     "output_type": "display_data"
    }
   ],
   "source": [
    "# Training classification report\n",
    "y_pred_train = log_reg.predict(X_train)\n",
    "print(classification_report(y_train, y_pred_train))"
   ]
  },
  {
   "cell_type": "code",
   "execution_count": 36,
   "metadata": {},
   "outputs": [
    {
     "name": "stdout",
     "output_type": "stream",
     "text": [
      "              precision    recall  f1-score   support\n",
      "\n",
      "    negative       0.51      0.56      0.53        70\n",
      "     neutral       0.51      0.54      0.52        85\n",
      "    positive       0.58      0.50      0.54       105\n",
      "\n",
      "    accuracy                           0.53       260\n",
      "   macro avg       0.53      0.53      0.53       260\n",
      "weighted avg       0.53      0.53      0.53       260\n",
      "\n"
     ]
    },
    {
     "data": {
      "application/javascript": [
       "\n",
       "            setTimeout(function() {\n",
       "                var nbb_cell_id = 36;\n",
       "                var nbb_unformatted_code = \"# Validation classification report\\ny_pred_val = log_reg.predict(X_val)\\nprint(classification_report(y_val, y_pred_val))\";\n",
       "                var nbb_formatted_code = \"# Validation classification report\\ny_pred_val = log_reg.predict(X_val)\\nprint(classification_report(y_val, y_pred_val))\";\n",
       "                var nbb_cells = Jupyter.notebook.get_cells();\n",
       "                for (var i = 0; i < nbb_cells.length; ++i) {\n",
       "                    if (nbb_cells[i].input_prompt_number == nbb_cell_id) {\n",
       "                        if (nbb_cells[i].get_text() == nbb_unformatted_code) {\n",
       "                             nbb_cells[i].set_text(nbb_formatted_code);\n",
       "                        }\n",
       "                        break;\n",
       "                    }\n",
       "                }\n",
       "            }, 500);\n",
       "            "
      ],
      "text/plain": [
       "<IPython.core.display.Javascript object>"
      ]
     },
     "metadata": {},
     "output_type": "display_data"
    }
   ],
   "source": [
    "# Validation classification report\n",
    "y_pred_val = log_reg.predict(X_val)\n",
    "print(classification_report(y_val, y_pred_val))"
   ]
  },
  {
   "cell_type": "code",
   "execution_count": 37,
   "metadata": {},
   "outputs": [
    {
     "data": {
      "application/javascript": [
       "\n",
       "            setTimeout(function() {\n",
       "                var nbb_cell_id = 37;\n",
       "                var nbb_unformatted_code = \"def scores(model, X_train: pd.DataFrame, y_train: pd.DataFrame, metric: str) -> float:\\n    score = -1 * cross_val_score(model, X_train, y_train, cv=5, scoring=metric)\\n    return score\";\n",
       "                var nbb_formatted_code = \"def scores(model, X_train: pd.DataFrame, y_train: pd.DataFrame, metric: str) -> float:\\n    score = -1 * cross_val_score(model, X_train, y_train, cv=5, scoring=metric)\\n    return score\";\n",
       "                var nbb_cells = Jupyter.notebook.get_cells();\n",
       "                for (var i = 0; i < nbb_cells.length; ++i) {\n",
       "                    if (nbb_cells[i].input_prompt_number == nbb_cell_id) {\n",
       "                        if (nbb_cells[i].get_text() == nbb_unformatted_code) {\n",
       "                             nbb_cells[i].set_text(nbb_formatted_code);\n",
       "                        }\n",
       "                        break;\n",
       "                    }\n",
       "                }\n",
       "            }, 500);\n",
       "            "
      ],
      "text/plain": [
       "<IPython.core.display.Javascript object>"
      ]
     },
     "metadata": {},
     "output_type": "display_data"
    }
   ],
   "source": [
    "def scores(model, X_train: pd.DataFrame, y_train: pd.DataFrame, metric: str) -> float:\n",
    "    score = -1 * cross_val_score(model, X_train, y_train, cv=5, scoring=metric)\n",
    "    return score"
   ]
  },
  {
   "cell_type": "code",
   "execution_count": 38,
   "metadata": {},
   "outputs": [
    {
     "name": "stdout",
     "output_type": "stream",
     "text": [
      "Cross validation F1 score is 0.57\n"
     ]
    },
    {
     "data": {
      "application/javascript": [
       "\n",
       "            setTimeout(function() {\n",
       "                var nbb_cell_id = 38;\n",
       "                var nbb_unformatted_code = \"log_reg = LogisticRegression(class_weight=\\\"balanced\\\")\\n\\ncross_f1_score = scores(log_reg, X_train_full, y_train_full, \\\"f1_micro\\\")\\ncross_f1_score = -1 * sum(cross_f1_score) / len(cross_f1_score)\\nprint(f\\\"Cross validation F1 score is {cross_f1_score}\\\")\";\n",
       "                var nbb_formatted_code = \"log_reg = LogisticRegression(class_weight=\\\"balanced\\\")\\n\\ncross_f1_score = scores(log_reg, X_train_full, y_train_full, \\\"f1_micro\\\")\\ncross_f1_score = -1 * sum(cross_f1_score) / len(cross_f1_score)\\nprint(f\\\"Cross validation F1 score is {cross_f1_score}\\\")\";\n",
       "                var nbb_cells = Jupyter.notebook.get_cells();\n",
       "                for (var i = 0; i < nbb_cells.length; ++i) {\n",
       "                    if (nbb_cells[i].input_prompt_number == nbb_cell_id) {\n",
       "                        if (nbb_cells[i].get_text() == nbb_unformatted_code) {\n",
       "                             nbb_cells[i].set_text(nbb_formatted_code);\n",
       "                        }\n",
       "                        break;\n",
       "                    }\n",
       "                }\n",
       "            }, 500);\n",
       "            "
      ],
      "text/plain": [
       "<IPython.core.display.Javascript object>"
      ]
     },
     "metadata": {},
     "output_type": "display_data"
    }
   ],
   "source": [
    "log_reg = LogisticRegression(class_weight=\"balanced\")\n",
    "\n",
    "cross_f1_score = scores(log_reg, X_train_full, y_train_full, \"f1_micro\")\n",
    "cross_f1_score = -1 * sum(cross_f1_score) / len(cross_f1_score)\n",
    "print(f\"Cross validation F1 score is {cross_f1_score}\")"
   ]
  },
  {
   "cell_type": "markdown",
   "metadata": {},
   "source": [
    "# Pickle Final Model"
   ]
  },
  {
   "cell_type": "code",
   "execution_count": 23,
   "metadata": {},
   "outputs": [
    {
     "data": {
      "text/plain": [
       "LogisticRegression(class_weight='balanced')"
      ]
     },
     "execution_count": 23,
     "metadata": {},
     "output_type": "execute_result"
    },
    {
     "data": {
      "application/javascript": [
       "\n",
       "            setTimeout(function() {\n",
       "                var nbb_cell_id = 23;\n",
       "                var nbb_unformatted_code = \"log_reg = LogisticRegression(class_weight=\\\"balanced\\\")\\nlog_reg.fit(X_train_full, y_train_full)\";\n",
       "                var nbb_formatted_code = \"log_reg = LogisticRegression(class_weight=\\\"balanced\\\")\\nlog_reg.fit(X_train_full, y_train_full)\";\n",
       "                var nbb_cells = Jupyter.notebook.get_cells();\n",
       "                for (var i = 0; i < nbb_cells.length; ++i) {\n",
       "                    if (nbb_cells[i].input_prompt_number == nbb_cell_id) {\n",
       "                        if (nbb_cells[i].get_text() == nbb_unformatted_code) {\n",
       "                             nbb_cells[i].set_text(nbb_formatted_code);\n",
       "                        }\n",
       "                        break;\n",
       "                    }\n",
       "                }\n",
       "            }, 500);\n",
       "            "
      ],
      "text/plain": [
       "<IPython.core.display.Javascript object>"
      ]
     },
     "metadata": {},
     "output_type": "display_data"
    }
   ],
   "source": [
    "log_reg = LogisticRegression(class_weight=\"balanced\")\n",
    "log_reg.fit(X_train_full, y_train_full)"
   ]
  },
  {
   "cell_type": "code",
   "execution_count": 24,
   "metadata": {},
   "outputs": [
    {
     "data": {
      "application/javascript": [
       "\n",
       "            setTimeout(function() {\n",
       "                var nbb_cell_id = 24;\n",
       "                var nbb_unformatted_code = \"pkl_filename = \\\"logistic_reg.pkl\\\"\\nwith open(pkl_filename, \\\"wb\\\") as file:\\n    pickle.dump(log_reg, file)\";\n",
       "                var nbb_formatted_code = \"pkl_filename = \\\"logistic_reg.pkl\\\"\\nwith open(pkl_filename, \\\"wb\\\") as file:\\n    pickle.dump(log_reg, file)\";\n",
       "                var nbb_cells = Jupyter.notebook.get_cells();\n",
       "                for (var i = 0; i < nbb_cells.length; ++i) {\n",
       "                    if (nbb_cells[i].input_prompt_number == nbb_cell_id) {\n",
       "                        if (nbb_cells[i].get_text() == nbb_unformatted_code) {\n",
       "                             nbb_cells[i].set_text(nbb_formatted_code);\n",
       "                        }\n",
       "                        break;\n",
       "                    }\n",
       "                }\n",
       "            }, 500);\n",
       "            "
      ],
      "text/plain": [
       "<IPython.core.display.Javascript object>"
      ]
     },
     "metadata": {},
     "output_type": "display_data"
    }
   ],
   "source": [
    "# Pickle model\n",
    "pkl_filename = \"logistic_reg.pkl\"\n",
    "with open(pkl_filename, \"wb\") as file:\n",
    "    pickle.dump(log_reg, file)"
   ]
  },
  {
   "cell_type": "code",
   "execution_count": 43,
   "metadata": {},
   "outputs": [
    {
     "data": {
      "application/javascript": [
       "\n",
       "            setTimeout(function() {\n",
       "                var nbb_cell_id = 43;\n",
       "                var nbb_unformatted_code = \"# Pickle vectorizer\\npkl_filename = \\\"vectorizer.pkl\\\"\\nwith open(pkl_filename, \\\"wb\\\") as file:\\n    pickle.dump(vectorizer, file)\";\n",
       "                var nbb_formatted_code = \"# Pickle vectorizer\\npkl_filename = \\\"vectorizer.pkl\\\"\\nwith open(pkl_filename, \\\"wb\\\") as file:\\n    pickle.dump(vectorizer, file)\";\n",
       "                var nbb_cells = Jupyter.notebook.get_cells();\n",
       "                for (var i = 0; i < nbb_cells.length; ++i) {\n",
       "                    if (nbb_cells[i].input_prompt_number == nbb_cell_id) {\n",
       "                        if (nbb_cells[i].get_text() == nbb_unformatted_code) {\n",
       "                             nbb_cells[i].set_text(nbb_formatted_code);\n",
       "                        }\n",
       "                        break;\n",
       "                    }\n",
       "                }\n",
       "            }, 500);\n",
       "            "
      ],
      "text/plain": [
       "<IPython.core.display.Javascript object>"
      ]
     },
     "metadata": {},
     "output_type": "display_data"
    }
   ],
   "source": [
    "# Pickle vectorizer\n",
    "pkl_filename = \"vectorizer.pkl\"\n",
    "with open(pkl_filename, \"wb\") as file:\n",
    "    pickle.dump(vectorizer, file)"
   ]
  }
 ],
 "metadata": {
  "kernelspec": {
   "display_name": "Python 3",
   "language": "python",
   "name": "python3"
  },
  "language_info": {
   "codemirror_mode": {
    "name": "ipython",
    "version": 3
   },
   "file_extension": ".py",
   "mimetype": "text/x-python",
   "name": "python",
   "nbconvert_exporter": "python",
   "pygments_lexer": "ipython3",
   "version": "3.6.8"
  },
  "toc": {
   "base_numbering": 1,
   "nav_menu": {},
   "number_sections": false,
   "sideBar": true,
   "skip_h1_title": false,
   "title_cell": "Table of Contents",
   "title_sidebar": "Contents",
   "toc_cell": false,
   "toc_position": {},
   "toc_section_display": true,
   "toc_window_display": false
  },
  "varInspector": {
   "cols": {
    "lenName": 16,
    "lenType": 16,
    "lenVar": 40
   },
   "kernels_config": {
    "python": {
     "delete_cmd_postfix": "",
     "delete_cmd_prefix": "del ",
     "library": "var_list.py",
     "varRefreshCmd": "print(var_dic_list())"
    },
    "r": {
     "delete_cmd_postfix": ") ",
     "delete_cmd_prefix": "rm(",
     "library": "var_list.r",
     "varRefreshCmd": "cat(var_dic_list()) "
    }
   },
   "types_to_exclude": [
    "module",
    "function",
    "builtin_function_or_method",
    "instance",
    "_Feature"
   ],
   "window_display": false
  }
 },
 "nbformat": 4,
 "nbformat_minor": 4
}
